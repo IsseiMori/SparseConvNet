{
 "cells": [
  {
   "cell_type": "code",
   "execution_count": 1,
   "id": "2952fcdf",
   "metadata": {},
   "outputs": [],
   "source": [
    "from torchvision import datasets, transforms, models\n",
    "from torch import nn, optim, utils, device as device_, cuda\n",
    "import torch\n",
    "import torch.nn as nn\n",
    "import numpy as np\n",
    "from sklearn import metrics\n",
    "import time\n",
    "import sparseconvnet as scn\n",
    "import math"
   ]
  },
  {
   "cell_type": "code",
   "execution_count": 2,
   "id": "b259c92a",
   "metadata": {},
   "outputs": [],
   "source": [
    "dataset_train = datasets.MNIST(\n",
    "    './data', \n",
    "    train=True, \n",
    "    download=True, \n",
    "    transform=transforms.ToTensor())"
   ]
  },
  {
   "cell_type": "code",
   "execution_count": 175,
   "id": "64e59ca9",
   "metadata": {},
   "outputs": [
    {
     "name": "stdout",
     "output_type": "stream",
     "text": [
      "Using CUDA.\n"
     ]
    }
   ],
   "source": [
    "use_cuda = torch.cuda.is_available() and scn.SCN.is_cuda_build()\n",
    "device = 'cuda:0' if use_cuda else 'cpu'\n",
    "if use_cuda:\n",
    "    print(\"Using CUDA.\")\n",
    "else:\n",
    "    print(\"Not using CUDA.\")"
   ]
  },
  {
   "cell_type": "code",
   "execution_count": 176,
   "id": "4261848a",
   "metadata": {},
   "outputs": [],
   "source": [
    "class Data(torch.utils.data.Dataset):\n",
    "    def __init__(self,file):\n",
    "        torch.utils.data.Dataset.__init__(self)\n",
    "        \n",
    "        total_pix = 0.0\n",
    "        data_pix = 0.0\n",
    "        \n",
    "        N_DATA = 100\n",
    "        \n",
    "        data = torch.load(file)\n",
    "        self.data = []\n",
    "        # self.data = data[0] # array of img tensors\n",
    "        \n",
    "        self.labels = data[1]\n",
    "        \n",
    "#         self.labels = [] # array of labels\n",
    "#         for label in data[1]:\n",
    "#             self.labels.append(torch.nn.functional.one_hot(label, 10).to(device))\n",
    "        \n",
    "        for batchIdx, img in enumerate(data[0]): # for each data\n",
    "            \n",
    "            if batchIdx >= N_DATA: break\n",
    "                \n",
    "            locations = []\n",
    "            features = []\n",
    "            for y, line in enumerate(img): # for y coordinates\n",
    "                for x, v in enumerate(line): # for x coordinates\n",
    "                    total_pix += 1\n",
    "                    if v != 0:\n",
    "                        locations.append([y, x, batchIdx])\n",
    "                        features.append([v])\n",
    "                        data_pix += 1\n",
    "            \n",
    "            single_data = {}\n",
    "            single_data['locations'] = torch.LongTensor(locations)\n",
    "            single_data['features'] = torch.FloatTensor(features).to(device)\n",
    "            self.data.append(single_data)\n",
    "        \n",
    "        print('Sparse ', data_pix / total_pix)\n",
    "        print('Loaded ', len(self.data), ' points')\n",
    "                \n",
    "    \n",
    "    def __getitem__(self, n):\n",
    "        return self.data[n], self.labels[n]\n",
    "\n",
    "    def __len__(self):\n",
    "        return len(self.data)"
   ]
  },
  {
   "cell_type": "code",
   "execution_count": 177,
   "id": "31009bed",
   "metadata": {},
   "outputs": [
    {
     "name": "stdout",
     "output_type": "stream",
     "text": [
      "Sparse  0.1865561224489796\n",
      "Loaded  100  points\n"
     ]
    }
   ],
   "source": [
    "dataset = Data('data/MNIST/processed/training.pt')"
   ]
  },
  {
   "cell_type": "code",
   "execution_count": 184,
   "id": "31c4490b",
   "metadata": {},
   "outputs": [],
   "source": [
    "dataloader_train = torch.utils.data.DataLoader(dataset, batch_size=16, shuffle=True)"
   ]
  },
  {
   "cell_type": "code",
   "execution_count": 264,
   "id": "e8ea652b",
   "metadata": {},
   "outputs": [],
   "source": [
    "model = scn.Sequential().add(\n",
    "    scn.SparseVggNet(2, 1,\n",
    "                     [['C', 8], ['C', 8], ['MP', 3, 2],\n",
    "                      ['C', 16], ['C', 16], ['MP', 3, 2],\n",
    "                      ['C', 24], ['C', 24], ['MP', 3, 2]])\n",
    ").add(\n",
    "    scn.SubmanifoldConvolution(2, 24, 10, 3, False)\n",
    ").add(\n",
    "    scn.BatchNormReLU(10)\n",
    ").add(\n",
    "    scn.SparseToDense(2, 10)\n",
    ").to(device)\n",
    "\n",
    "inputSpatialSize = model.input_spatial_size(torch.LongTensor([1]))\n",
    "input_layer = scn.InputLayer(2, inputSpatialSize)\n",
    "\n",
    "class MyNet(nn.Module):\n",
    "    \n",
    "    def __init__(self):\n",
    "        super().__init__()\n",
    "        \n",
    "        inputSpatialSize = model.input_spatial_size(torch.LongTensor([1]))\n",
    "        self.inputLayer = scn.InputLayer(2, inputSpatialSize)\n",
    "        \n",
    "#         self.sparseModel = scn.Sequential().add(\n",
    "#                 scn.SparseVggNet(2, 1,\n",
    "#                                  [['C', 8], ['C', 8], ['MP', 3, 2],\n",
    "#                                   ['C', 16], ['C', 16], ['MP', 3, 2],\n",
    "#                                   ['C', 24], ['C', 24], ['MP', 3, 2]])\n",
    "#             ).add(\n",
    "#                 scn.SubmanifoldConvolution(2, 24, 10, 3, False)\n",
    "#             ).add(\n",
    "#                 scn.BatchNormReLU(10)\n",
    "#             ).add(\n",
    "#                 scn.SparseToDense(2, 10)\n",
    "#             )\n",
    "\n",
    "        self.spaseModel = scn.Sequential().add(\n",
    "            scn.SubmanifoldConvolution(2, 32, 3, 1, False)\n",
    "            .add(\n",
    "                scn.BatchNormReLU()\n",
    "            ).add(\n",
    "        )\n",
    "    \n",
    "    def forward(self, x):\n",
    "        #print(\"forward:\", len(x))\n",
    "        # x = self.input(x)\n",
    "        x = self.sparseModel(x)\n",
    "        # x = torch.reshape(x, (1, 10))\n",
    "        #x = torch.softmax(torch.reshape(x, (1, 10)), 1)\n",
    "        # print(x)\n",
    "        # x = nn.Softmax(x, 0)\n",
    "        return x\n",
    "\n",
    "\n",
    "class MyLoss(nn.Module):\n",
    "    \n",
    "    def __init__(self):\n",
    "        super().__init__()\n",
    "    \n",
    "    def forward(self, output, target):\n",
    "        \n",
    "        loss = torch.mean((output - target)**2)\n",
    "        return loss"
   ]
  },
  {
   "cell_type": "code",
   "execution_count": 265,
   "id": "e53875d6",
   "metadata": {},
   "outputs": [],
   "source": [
    "model = MyNet().cuda()\n",
    "\n",
    "EPOCHS = 100\n",
    "\n",
    "# criterion = torch.nn.CrossEntropyLoss()\n",
    "criterion = MyLoss()\n",
    "optimizer = optim.SGD(model.parameters(), lr=0.01, momentum=0.8)"
   ]
  },
  {
   "cell_type": "code",
   "execution_count": 266,
   "id": "2e29ee7d",
   "metadata": {},
   "outputs": [
    {
     "name": "stdout",
     "output_type": "stream",
     "text": [
      "epoch:    1, loss: 24.999984741210938, accuracy: 0.0\n"
     ]
    },
    {
     "ename": "KeyboardInterrupt",
     "evalue": "",
     "output_type": "error",
     "traceback": [
      "\u001b[0;31m---------------------------------------------------------------------------\u001b[0m",
      "\u001b[0;31mKeyboardInterrupt\u001b[0m                         Traceback (most recent call last)",
      "\u001b[0;32m/tmp/ipykernel_172/1657816789.py\u001b[0m in \u001b[0;36m<module>\u001b[0;34m\u001b[0m\n\u001b[1;32m     13\u001b[0m         \u001b[0moptimizer\u001b[0m\u001b[0;34m.\u001b[0m\u001b[0mzero_grad\u001b[0m\u001b[0;34m(\u001b[0m\u001b[0;34m)\u001b[0m\u001b[0;34m\u001b[0m\u001b[0;34m\u001b[0m\u001b[0m\n\u001b[1;32m     14\u001b[0m         \u001b[0minput\u001b[0m \u001b[0;34m=\u001b[0m \u001b[0minput_layer\u001b[0m\u001b[0;34m(\u001b[0m\u001b[0;34m[\u001b[0m\u001b[0mdata\u001b[0m\u001b[0;34m[\u001b[0m\u001b[0;34m'locations'\u001b[0m\u001b[0;34m]\u001b[0m\u001b[0;34m,\u001b[0m\u001b[0mdata\u001b[0m\u001b[0;34m[\u001b[0m\u001b[0;34m'features'\u001b[0m\u001b[0;34m]\u001b[0m\u001b[0;34m]\u001b[0m\u001b[0;34m)\u001b[0m\u001b[0;34m\u001b[0m\u001b[0;34m\u001b[0m\u001b[0m\n\u001b[0;32m---> 15\u001b[0;31m         \u001b[0moutput\u001b[0m \u001b[0;34m=\u001b[0m \u001b[0mmodel\u001b[0m\u001b[0;34m(\u001b[0m\u001b[0minput\u001b[0m\u001b[0;34m)\u001b[0m\u001b[0;34m[\u001b[0m\u001b[0mi\u001b[0m\u001b[0;34m]\u001b[0m\u001b[0;34m\u001b[0m\u001b[0;34m\u001b[0m\u001b[0m\n\u001b[0m\u001b[1;32m     16\u001b[0m         \u001b[0mloss\u001b[0m \u001b[0;34m=\u001b[0m \u001b[0mcriterion\u001b[0m\u001b[0;34m(\u001b[0m\u001b[0moutput\u001b[0m\u001b[0;34m,\u001b[0m \u001b[0mlabel\u001b[0m\u001b[0;34m)\u001b[0m\u001b[0;34m\u001b[0m\u001b[0;34m\u001b[0m\u001b[0m\n\u001b[1;32m     17\u001b[0m         \u001b[0;31m# loss = criterion(torch.reshape(output, (1, 10)), label)\u001b[0m\u001b[0;34m\u001b[0m\u001b[0;34m\u001b[0m\u001b[0;34m\u001b[0m\u001b[0m\n",
      "\u001b[0;32m~/anaconda3/envs/py38spn/lib/python3.8/site-packages/torch/nn/modules/module.py\u001b[0m in \u001b[0;36m_call_impl\u001b[0;34m(self, *input, **kwargs)\u001b[0m\n\u001b[1;32m    725\u001b[0m             \u001b[0mresult\u001b[0m \u001b[0;34m=\u001b[0m \u001b[0mself\u001b[0m\u001b[0;34m.\u001b[0m\u001b[0m_slow_forward\u001b[0m\u001b[0;34m(\u001b[0m\u001b[0;34m*\u001b[0m\u001b[0minput\u001b[0m\u001b[0;34m,\u001b[0m \u001b[0;34m**\u001b[0m\u001b[0mkwargs\u001b[0m\u001b[0;34m)\u001b[0m\u001b[0;34m\u001b[0m\u001b[0;34m\u001b[0m\u001b[0m\n\u001b[1;32m    726\u001b[0m         \u001b[0;32melse\u001b[0m\u001b[0;34m:\u001b[0m\u001b[0;34m\u001b[0m\u001b[0;34m\u001b[0m\u001b[0m\n\u001b[0;32m--> 727\u001b[0;31m             \u001b[0mresult\u001b[0m \u001b[0;34m=\u001b[0m \u001b[0mself\u001b[0m\u001b[0;34m.\u001b[0m\u001b[0mforward\u001b[0m\u001b[0;34m(\u001b[0m\u001b[0;34m*\u001b[0m\u001b[0minput\u001b[0m\u001b[0;34m,\u001b[0m \u001b[0;34m**\u001b[0m\u001b[0mkwargs\u001b[0m\u001b[0;34m)\u001b[0m\u001b[0;34m\u001b[0m\u001b[0;34m\u001b[0m\u001b[0m\n\u001b[0m\u001b[1;32m    728\u001b[0m         for hook in itertools.chain(\n\u001b[1;32m    729\u001b[0m                 \u001b[0m_global_forward_hooks\u001b[0m\u001b[0;34m.\u001b[0m\u001b[0mvalues\u001b[0m\u001b[0;34m(\u001b[0m\u001b[0;34m)\u001b[0m\u001b[0;34m,\u001b[0m\u001b[0;34m\u001b[0m\u001b[0;34m\u001b[0m\u001b[0m\n",
      "\u001b[0;32m/tmp/ipykernel_172/598647391.py\u001b[0m in \u001b[0;36mforward\u001b[0;34m(self, x)\u001b[0m\n\u001b[1;32m     38\u001b[0m         \u001b[0;31m#print(\"forward:\", len(x))\u001b[0m\u001b[0;34m\u001b[0m\u001b[0;34m\u001b[0m\u001b[0;34m\u001b[0m\u001b[0m\n\u001b[1;32m     39\u001b[0m         \u001b[0;31m# x = self.input(x)\u001b[0m\u001b[0;34m\u001b[0m\u001b[0;34m\u001b[0m\u001b[0;34m\u001b[0m\u001b[0m\n\u001b[0;32m---> 40\u001b[0;31m         \u001b[0mx\u001b[0m \u001b[0;34m=\u001b[0m \u001b[0mself\u001b[0m\u001b[0;34m.\u001b[0m\u001b[0msparseModel\u001b[0m\u001b[0;34m(\u001b[0m\u001b[0mx\u001b[0m\u001b[0;34m)\u001b[0m\u001b[0;34m\u001b[0m\u001b[0;34m\u001b[0m\u001b[0m\n\u001b[0m\u001b[1;32m     41\u001b[0m         \u001b[0;31m# x = torch.reshape(x, (1, 10))\u001b[0m\u001b[0;34m\u001b[0m\u001b[0;34m\u001b[0m\u001b[0;34m\u001b[0m\u001b[0m\n\u001b[1;32m     42\u001b[0m         \u001b[0;31m#x = torch.softmax(torch.reshape(x, (1, 10)), 1)\u001b[0m\u001b[0;34m\u001b[0m\u001b[0;34m\u001b[0m\u001b[0;34m\u001b[0m\u001b[0m\n",
      "\u001b[0;32m~/anaconda3/envs/py38spn/lib/python3.8/site-packages/torch/nn/modules/module.py\u001b[0m in \u001b[0;36m_call_impl\u001b[0;34m(self, *input, **kwargs)\u001b[0m\n\u001b[1;32m    725\u001b[0m             \u001b[0mresult\u001b[0m \u001b[0;34m=\u001b[0m \u001b[0mself\u001b[0m\u001b[0;34m.\u001b[0m\u001b[0m_slow_forward\u001b[0m\u001b[0;34m(\u001b[0m\u001b[0;34m*\u001b[0m\u001b[0minput\u001b[0m\u001b[0;34m,\u001b[0m \u001b[0;34m**\u001b[0m\u001b[0mkwargs\u001b[0m\u001b[0;34m)\u001b[0m\u001b[0;34m\u001b[0m\u001b[0;34m\u001b[0m\u001b[0m\n\u001b[1;32m    726\u001b[0m         \u001b[0;32melse\u001b[0m\u001b[0;34m:\u001b[0m\u001b[0;34m\u001b[0m\u001b[0;34m\u001b[0m\u001b[0m\n\u001b[0;32m--> 727\u001b[0;31m             \u001b[0mresult\u001b[0m \u001b[0;34m=\u001b[0m \u001b[0mself\u001b[0m\u001b[0;34m.\u001b[0m\u001b[0mforward\u001b[0m\u001b[0;34m(\u001b[0m\u001b[0;34m*\u001b[0m\u001b[0minput\u001b[0m\u001b[0;34m,\u001b[0m \u001b[0;34m**\u001b[0m\u001b[0mkwargs\u001b[0m\u001b[0;34m)\u001b[0m\u001b[0;34m\u001b[0m\u001b[0;34m\u001b[0m\u001b[0m\n\u001b[0m\u001b[1;32m    728\u001b[0m         for hook in itertools.chain(\n\u001b[1;32m    729\u001b[0m                 \u001b[0m_global_forward_hooks\u001b[0m\u001b[0;34m.\u001b[0m\u001b[0mvalues\u001b[0m\u001b[0;34m(\u001b[0m\u001b[0;34m)\u001b[0m\u001b[0;34m,\u001b[0m\u001b[0;34m\u001b[0m\u001b[0;34m\u001b[0m\u001b[0m\n",
      "\u001b[0;32m~/anaconda3/envs/py38spn/lib/python3.8/site-packages/torch/nn/modules/container.py\u001b[0m in \u001b[0;36mforward\u001b[0;34m(self, input)\u001b[0m\n\u001b[1;32m    115\u001b[0m     \u001b[0;32mdef\u001b[0m \u001b[0mforward\u001b[0m\u001b[0;34m(\u001b[0m\u001b[0mself\u001b[0m\u001b[0;34m,\u001b[0m \u001b[0minput\u001b[0m\u001b[0;34m)\u001b[0m\u001b[0;34m:\u001b[0m\u001b[0;34m\u001b[0m\u001b[0;34m\u001b[0m\u001b[0m\n\u001b[1;32m    116\u001b[0m         \u001b[0;32mfor\u001b[0m \u001b[0mmodule\u001b[0m \u001b[0;32min\u001b[0m \u001b[0mself\u001b[0m\u001b[0;34m:\u001b[0m\u001b[0;34m\u001b[0m\u001b[0;34m\u001b[0m\u001b[0m\n\u001b[0;32m--> 117\u001b[0;31m             \u001b[0minput\u001b[0m \u001b[0;34m=\u001b[0m \u001b[0mmodule\u001b[0m\u001b[0;34m(\u001b[0m\u001b[0minput\u001b[0m\u001b[0;34m)\u001b[0m\u001b[0;34m\u001b[0m\u001b[0;34m\u001b[0m\u001b[0m\n\u001b[0m\u001b[1;32m    118\u001b[0m         \u001b[0;32mreturn\u001b[0m \u001b[0minput\u001b[0m\u001b[0;34m\u001b[0m\u001b[0;34m\u001b[0m\u001b[0m\n\u001b[1;32m    119\u001b[0m \u001b[0;34m\u001b[0m\u001b[0m\n",
      "\u001b[0;32m~/anaconda3/envs/py38spn/lib/python3.8/site-packages/torch/nn/modules/module.py\u001b[0m in \u001b[0;36m_call_impl\u001b[0;34m(self, *input, **kwargs)\u001b[0m\n\u001b[1;32m    725\u001b[0m             \u001b[0mresult\u001b[0m \u001b[0;34m=\u001b[0m \u001b[0mself\u001b[0m\u001b[0;34m.\u001b[0m\u001b[0m_slow_forward\u001b[0m\u001b[0;34m(\u001b[0m\u001b[0;34m*\u001b[0m\u001b[0minput\u001b[0m\u001b[0;34m,\u001b[0m \u001b[0;34m**\u001b[0m\u001b[0mkwargs\u001b[0m\u001b[0;34m)\u001b[0m\u001b[0;34m\u001b[0m\u001b[0;34m\u001b[0m\u001b[0m\n\u001b[1;32m    726\u001b[0m         \u001b[0;32melse\u001b[0m\u001b[0;34m:\u001b[0m\u001b[0;34m\u001b[0m\u001b[0;34m\u001b[0m\u001b[0m\n\u001b[0;32m--> 727\u001b[0;31m             \u001b[0mresult\u001b[0m \u001b[0;34m=\u001b[0m \u001b[0mself\u001b[0m\u001b[0;34m.\u001b[0m\u001b[0mforward\u001b[0m\u001b[0;34m(\u001b[0m\u001b[0;34m*\u001b[0m\u001b[0minput\u001b[0m\u001b[0;34m,\u001b[0m \u001b[0;34m**\u001b[0m\u001b[0mkwargs\u001b[0m\u001b[0;34m)\u001b[0m\u001b[0;34m\u001b[0m\u001b[0;34m\u001b[0m\u001b[0m\n\u001b[0m\u001b[1;32m    728\u001b[0m         for hook in itertools.chain(\n\u001b[1;32m    729\u001b[0m                 \u001b[0m_global_forward_hooks\u001b[0m\u001b[0;34m.\u001b[0m\u001b[0mvalues\u001b[0m\u001b[0;34m(\u001b[0m\u001b[0;34m)\u001b[0m\u001b[0;34m,\u001b[0m\u001b[0;34m\u001b[0m\u001b[0;34m\u001b[0m\u001b[0m\n",
      "\u001b[0;32m/mnt/d/Documents/UCSD/SuLab/SparseConvNet/SparseConvNet/sparseconvnet/sparseToDense.py\u001b[0m in \u001b[0;36mforward\u001b[0;34m(self, input)\u001b[0m\n\u001b[1;32m     64\u001b[0m \u001b[0;34m\u001b[0m\u001b[0m\n\u001b[1;32m     65\u001b[0m     \u001b[0;32mdef\u001b[0m \u001b[0mforward\u001b[0m\u001b[0;34m(\u001b[0m\u001b[0mself\u001b[0m\u001b[0;34m,\u001b[0m \u001b[0minput\u001b[0m\u001b[0;34m)\u001b[0m\u001b[0;34m:\u001b[0m\u001b[0;34m\u001b[0m\u001b[0;34m\u001b[0m\u001b[0m\n\u001b[0;32m---> 66\u001b[0;31m         return SparseToDenseFunction.apply(\n\u001b[0m\u001b[1;32m     67\u001b[0m             \u001b[0minput\u001b[0m\u001b[0;34m.\u001b[0m\u001b[0mfeatures\u001b[0m\u001b[0;34m,\u001b[0m\u001b[0;34m\u001b[0m\u001b[0;34m\u001b[0m\u001b[0m\n\u001b[1;32m     68\u001b[0m             \u001b[0minput\u001b[0m\u001b[0;34m.\u001b[0m\u001b[0mmetadata\u001b[0m\u001b[0;34m,\u001b[0m\u001b[0;34m\u001b[0m\u001b[0;34m\u001b[0m\u001b[0m\n",
      "\u001b[0;32m/mnt/d/Documents/UCSD/SuLab/SparseConvNet/SparseConvNet/sparseconvnet/sparseToDense.py\u001b[0m in \u001b[0;36mforward\u001b[0;34m(ctx, input_features, input_metadata, spatial_size, dimension, nPlanes)\u001b[0m\n\u001b[1;32m     36\u001b[0m         \u001b[0mctx\u001b[0m\u001b[0;34m.\u001b[0m\u001b[0msave_for_backward\u001b[0m\u001b[0;34m(\u001b[0m\u001b[0minput_features\u001b[0m\u001b[0;34m,\u001b[0m \u001b[0mspatial_size\u001b[0m\u001b[0;34m)\u001b[0m\u001b[0;34m\u001b[0m\u001b[0;34m\u001b[0m\u001b[0m\n\u001b[1;32m     37\u001b[0m         \u001b[0moutput\u001b[0m \u001b[0;34m=\u001b[0m \u001b[0minput_features\u001b[0m\u001b[0;34m.\u001b[0m\u001b[0mnew\u001b[0m\u001b[0;34m(\u001b[0m\u001b[0;34m)\u001b[0m\u001b[0;34m\u001b[0m\u001b[0;34m\u001b[0m\u001b[0m\n\u001b[0;32m---> 38\u001b[0;31m         sparseconvnet.SCN.SparseToDense_updateOutput(\n\u001b[0m\u001b[1;32m     39\u001b[0m             \u001b[0mspatial_size\u001b[0m\u001b[0;34m,\u001b[0m\u001b[0;34m\u001b[0m\u001b[0;34m\u001b[0m\u001b[0m\n\u001b[1;32m     40\u001b[0m             \u001b[0minput_metadata\u001b[0m\u001b[0;34m,\u001b[0m\u001b[0;34m\u001b[0m\u001b[0;34m\u001b[0m\u001b[0m\n",
      "\u001b[0;31mKeyboardInterrupt\u001b[0m: "
     ]
    }
   ],
   "source": [
    "for epoch in range(EPOCHS):\n",
    "    \n",
    "    model.train()\n",
    "    train_loss = 0\n",
    "    \n",
    "    n_correct = 0\n",
    "    n_total = 0\n",
    "    \n",
    "    #for data, label in dataset:\n",
    "    for i,batch in enumerate(dataset):\n",
    "        data = batch[0]\n",
    "        label = batch[1]\n",
    "        optimizer.zero_grad()\n",
    "        input = input_layer([data['locations'],data['features']])\n",
    "        output = model(input)[i]\n",
    "        loss = criterion(output, label)\n",
    "        # loss = criterion(torch.reshape(output, (1, 10)), label)\n",
    "        train_loss += loss\n",
    "        loss.backward()\n",
    "        optimizer.step()\n",
    "        \n",
    "        # print(model[0][0].weight.grad)\n",
    "        \n",
    "        if torch.argmax(output) == label:\n",
    "            n_correct += 1\n",
    "        n_total += 1\n",
    "    \n",
    "        print(f'epoch: {epoch+1:4}, loss: {train_loss}, accuracy: {n_correct / n_total}')"
   ]
  },
  {
   "cell_type": "code",
   "execution_count": 258,
   "id": "3c64a899",
   "metadata": {},
   "outputs": [
    {
     "data": {
      "text/plain": [
       "tensor([[0.1000, 0.1000, 0.1000, 0.1000, 0.1000, 0.1000, 0.1000, 0.1000, 0.1000,\n",
       "         0.1000]], device='cuda:0', grad_fn=<SoftmaxBackward>)"
      ]
     },
     "execution_count": 258,
     "metadata": {},
     "output_type": "execute_result"
    }
   ],
   "source": [
    "torch.softmax(torch.reshape(output, (1, 10)), 1)"
   ]
  },
  {
   "cell_type": "code",
   "execution_count": 257,
   "id": "21b3fa92",
   "metadata": {},
   "outputs": [
    {
     "data": {
      "text/plain": [
       "tensor([[1.1921e-07, -0.0000e+00, 1.6689e-06, -0.0000e+00, 1.1921e-07, -0.0000e+00,\n",
       "         4.7684e-07, 0.0000e+00, 5.9605e-07, 3.5763e-06]], device='cuda:0',\n",
       "       grad_fn=<ViewBackward>)"
      ]
     },
     "execution_count": 257,
     "metadata": {},
     "output_type": "execute_result"
    }
   ],
   "source": [
    "torch.reshape(output, (1, 10))"
   ]
  },
  {
   "cell_type": "code",
   "execution_count": 227,
   "id": "9901220a",
   "metadata": {},
   "outputs": [
    {
     "data": {
      "text/plain": [
       "tensor([0.0900, 0.2447, 0.6652])"
      ]
     },
     "execution_count": 227,
     "metadata": {},
     "output_type": "execute_result"
    }
   ],
   "source": [
    "torch.softmax(torch.Tensor([1, 2, 3]), 0)"
   ]
  },
  {
   "cell_type": "code",
   "execution_count": 223,
   "id": "753d51c0",
   "metadata": {},
   "outputs": [
    {
     "data": {
      "text/plain": [
       "tensor([1., 2., 3.])"
      ]
     },
     "execution_count": 223,
     "metadata": {},
     "output_type": "execute_result"
    }
   ],
   "source": [
    "torch.Tensor([1, 2, 3])"
   ]
  },
  {
   "cell_type": "code",
   "execution_count": 267,
   "id": "02955d35",
   "metadata": {},
   "outputs": [
    {
     "data": {
      "text/plain": [
       "tensor([[[1.4305e-06]],\n",
       "\n",
       "        [[2.1458e-06]],\n",
       "\n",
       "        [[-0.0000e+00]],\n",
       "\n",
       "        [[-0.0000e+00]],\n",
       "\n",
       "        [[1.9073e-06]],\n",
       "\n",
       "        [[1.5497e-06]],\n",
       "\n",
       "        [[6.1989e-06]],\n",
       "\n",
       "        [[2.3842e-06]],\n",
       "\n",
       "        [[-0.0000e+00]],\n",
       "\n",
       "        [[-0.0000e+00]]], device='cuda:0', grad_fn=<SelectBackward>)"
      ]
     },
     "execution_count": 267,
     "metadata": {},
     "output_type": "execute_result"
    }
   ],
   "source": [
    "output"
   ]
  },
  {
   "cell_type": "code",
   "execution_count": null,
   "id": "1c97fab0",
   "metadata": {},
   "outputs": [],
   "source": []
  }
 ],
 "metadata": {
  "kernelspec": {
   "display_name": "Python 3 (ipykernel)",
   "language": "python",
   "name": "python3"
  },
  "language_info": {
   "codemirror_mode": {
    "name": "ipython",
    "version": 3
   },
   "file_extension": ".py",
   "mimetype": "text/x-python",
   "name": "python",
   "nbconvert_exporter": "python",
   "pygments_lexer": "ipython3",
   "version": "3.8.5"
  }
 },
 "nbformat": 4,
 "nbformat_minor": 5
}
